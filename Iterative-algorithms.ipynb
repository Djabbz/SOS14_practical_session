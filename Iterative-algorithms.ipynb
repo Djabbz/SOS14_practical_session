{
 "metadata": {
  "name": "",
  "signature": "sha256:246dd77e81fdc442dd86a3815e7ee9b2308db2d0f1d78934479b3db79a72dc49"
 },
 "nbformat": 3,
 "nbformat_minor": 0,
 "worksheets": [
  {
   "cells": [
    {
     "cell_type": "code",
     "collapsed": false,
     "input": [
      "import SOS_tools as SOS\n",
      "import numpy as np\n",
      "import pandas as pd\n",
      "import sklearn.ensemble as ens\n",
      "import sklearn.tree as tree"
     ],
     "language": "python",
     "metadata": {},
     "outputs": [],
     "prompt_number": 5
    },
    {
     "cell_type": "code",
     "collapsed": false,
     "input": [
      "%load_ext autoreload\n",
      "%autoreload 2\n",
      "%matplotlib inline"
     ],
     "language": "python",
     "metadata": {},
     "outputs": [
      {
       "output_type": "stream",
       "stream": "stdout",
       "text": [
        "The autoreload extension is already loaded. To reload it, use:\n",
        "  %reload_ext autoreload\n"
       ]
      }
     ],
     "prompt_number": 6
    },
    {
     "cell_type": "code",
     "collapsed": false,
     "input": [
      "pd.set_option('display.mpl_style', 'default') # Make the graphs a bit prettier\n",
      "pd.set_option('display.max_columns', None) # Otherwise, the columns will be truncated\n",
      "pd.set_option('display.max_rows', 35)\n",
      "rcParams['figure.figsize'] = (10.0, 6.0)\n",
      "rcParams['axes.linewidth'] = 2.5"
     ],
     "language": "python",
     "metadata": {},
     "outputs": [],
     "prompt_number": 7
    },
    {
     "cell_type": "code",
     "collapsed": false,
     "input": [
      "train_filename = 'training.csv'\n",
      "data = SOS.HiggsData(train_filename)"
     ],
     "language": "python",
     "metadata": {},
     "outputs": [],
     "prompt_number": 8
    },
    {
     "cell_type": "markdown",
     "metadata": {},
     "source": [
      "# Relabeling"
     ]
    },
    {
     "cell_type": "code",
     "collapsed": false,
     "input": [
      "data.set_split_fractions(0.4)\n",
      "train_X, train_Y, train_W = data.get_data_fold('train') \n",
      "test_X, test_Y, test_W = data.get_data_fold('test')"
     ],
     "language": "python",
     "metadata": {},
     "outputs": []
    },
    {
     "cell_type": "code",
     "collapsed": false,
     "input": [
      "_, _, unnormalized_train_W = data.get_data_fold('train', normed_weights=False)\n",
      "_, _, unnormalized_valid_W = data.get_data_fold('valid', normed_weights=False)\n",
      "_, _, unnormalized_test_W = data.get_data_fold('test', normed_weights=False)\n",
      "weight_factor_test = float(data.shape[0]) / test_X.shape[0]\n",
      "weight_factor_train = float(data.shape[0]) / train_X.shape[0]\n",
      "weight_factor_valid = float(data.shape[0]) / valid_X.shape[0]"
     ],
     "language": "python",
     "metadata": {},
     "outputs": []
    },
    {
     "cell_type": "markdown",
     "metadata": {},
     "source": [
      "## Random forest"
     ]
    },
    {
     "cell_type": "code",
     "collapsed": false,
     "input": [
      "random_forest = ens.RandomForestClassifier(n_estimators=100)"
     ],
     "language": "python",
     "metadata": {},
     "outputs": []
    },
    {
     "cell_type": "code",
     "collapsed": true,
     "input": [
      "num_iterations = 10\n",
      "\n",
      "temp_Y = train_Y[:]\n",
      "# train_scores = random_forest.predict_proba(train_X)\n",
      "# temp_Y = (train_scores[:, 1] > threshold).astype(int)\n",
      "for i in range(1, num_iterations + 1):\n",
      "    \n",
      "    print '--> iteration: ', i\n",
      "    random_forest.fit(train_X, temp_Y, sample_weight=train_W)\n",
      "    print '[+] Fitting done.'\n",
      "    train_scores = random_forest.predict_proba(train_X)\n",
      "    test_scores = random_forest.predict_proba(test_X)\n",
      "    ams, threshold = SOS.plot_AMS_2(test_scores, test_Y, unnormalized_test_W, weight_factor_test, label='iteration %d' %i)\n",
      "    print '[+] AMS: ', ams, '\\t Threshold:', threshold \n",
      "    temp_Y = (train_scores[:, 1] > threshold).astype(int)    "
     ],
     "language": "python",
     "metadata": {},
     "outputs": []
    },
    {
     "cell_type": "markdown",
     "metadata": {},
     "source": [
      "## Adaboost"
     ]
    },
    {
     "cell_type": "code",
     "collapsed": false,
     "input": [
      "adaboost = ens.AdaBoostClassifier(n_estimators=10)"
     ],
     "language": "python",
     "metadata": {},
     "outputs": [],
     "prompt_number": 115
    },
    {
     "cell_type": "code",
     "collapsed": true,
     "input": [
      "num_iterations = 1\n",
      "predictor = adaboost\n",
      "temp_Y = train_Y[:]\n",
      "for i in range(1, num_iterations + 1):\n",
      "    \n",
      "    print '--> iteration: ', i\n",
      "    predictor.fit(train_X, temp_Y, sample_weight=train_W)\n",
      "    print '[+] Fitting done.'\n",
      "    train_scores = predictor.predict_proba(train_X)\n",
      "    test_scores = predictor.predict_proba(test_X)\n",
      "    ams, threshold = SOS.plot_AMS_2(test_scores, test_Y, unnormalized_test_W, weight_factor_test, label='iteration %d' %i)\n",
      "    print '[+] AMS: ', ams, '\\t Threshold:', threshold \n",
      "    temp_Y = (train_scores[:, 1] > threshold).astype(int)    "
     ],
     "language": "python",
     "metadata": {},
     "outputs": [
      {
       "output_type": "stream",
       "stream": "stdout",
       "text": [
        "--> iteration:  1\n",
        "[+] Fitting done."
       ]
      },
      {
       "output_type": "stream",
       "stream": "stdout",
       "text": [
        "\n",
        "[+] AMS: "
       ]
      },
      {
       "output_type": "stream",
       "stream": "stdout",
       "text": [
        " 2.5210751224 \t Threshold: 0.552377471447\n"
       ]
      },
      {
       "metadata": {},
       "output_type": "display_data",
       "png": "[encoded data removed]",
       "text": [
        "<matplotlib.figure.Figure at 0xaf3cd10>"
       ]
      }
     ],
     "prompt_number": 116
    },
    {
     "cell_type": "markdown",
     "metadata": {},
     "source": [
      "# Reweighting "
     ]
    },
    {
     "cell_type": "code",
     "collapsed": false,
     "input": [
      "data.set_split_fractions((0.4, 0.3))\n",
      "train_X, train_Y, train_W = data.get_data_fold('train')\n",
      "valid_X, valid_Y, valid_W = data.get_data_fold('valid')\n",
      "test_X, test_Y, test_W = data.get_data_fold('test')\n",
      "_, _, unnormalized_train_W = data.get_data_fold('train', normed_weights=False)\n",
      "_, _, unnormalized_valid_W = data.get_data_fold('valid', normed_weights=False)\n",
      "_, _, unnormalized_test_W = data.get_data_fold('test', normed_weights=False)\n",
      "weight_factor_test = float(data.shape[0]) / test_X.shape[0]\n",
      "weight_factor_train = float(data.shape[0]) / train_X.shape[0]\n",
      "weight_factor_valid = float(data.shape[0]) / valid_X.shape[0]\n",
      "\n",
      "# rf_10 = ens.RandomForestClassifier(n_estimators=10)\n",
      "rf_100 = ens.RandomForestClassifier(n_estimators=100)\n",
      "num_iterations = 4\n",
      "predictor = rf_100\n",
      "temp_train_W = train_W.copy()\n",
      "for i in range(1, num_iterations + 1):\n",
      "    print '--> iteration: ', i\n",
      "    predictor.fit(train_X, train_Y, sample_weight=temp_train_W)\n",
      "    print '[+] Fitting done.'\n",
      "\n",
      "    train_scores = predictor.predict_proba(train_X)\n",
      "    print '[+] Train scores done.'\n",
      "    valid_scores = predictor.predict_proba(valid_X)\n",
      "    print '[+] Validation  scores done.'\n",
      "    test_scores = predictor.predict_proba(test_X)\n",
      "    print '[+] Test scores done.'\n",
      "\n",
      "    _, threshold = SOS.plot_AMS_2(valid_scores, valid_Y, unnormalized_valid_W, weight_factor_valid, plot=False)\n",
      "    ams, _ = SOS.plot_AMS_2(test_scores, test_Y, unnormalized_test_W, weight_factor_test, label='iteration %d' %i)\n",
      "    print '[+] AMS: ', ams, '\\t Threshold:', threshold \n",
      "    \n",
      "    # reweighting\n",
      "    fp_sum = valid_W[ (valid_scores[:, 1] > threshold)  & (valid_Y == 0) ].sum()\n",
      "    fn_sum = valid_W[ (valid_scores[:, 1] <= threshold) & (valid_Y == 1) ].sum()\n",
      "    reweighting_factor = fp_sum / fn_sum\n",
      "    print '[+] fp/fn factor: ', reweighting_factor\n",
      "    \n",
      "    temp_train_W[(train_Y == 0)] /= reweighting_factor\n",
      "#     temp_train_W[(train_Y == 1)] *= reweighting_factor\n",
      "    \n",
      "#     temp_valid_W[(valid_Y == 0)] /= reweighting_factor\n",
      "#     temp_valid_W[(valid_Y == 1)] *= reweighting_factor"
     ],
     "language": "python",
     "metadata": {},
     "outputs": [
      {
       "output_type": "stream",
       "stream": "stdout",
       "text": [
        "--> iteration:  1\n",
        "[+] Fitting done."
       ]
      },
      {
       "output_type": "stream",
       "stream": "stdout",
       "text": [
        "\n",
        "[+] Train scores done."
       ]
      },
      {
       "output_type": "stream",
       "stream": "stdout",
       "text": [
        "\n",
        "[+] Validation  scores done."
       ]
      },
      {
       "output_type": "stream",
       "stream": "stdout",
       "text": [
        "\n",
        "[+] Test scores done."
       ]
      },
      {
       "output_type": "stream",
       "stream": "stdout",
       "text": [
        "\n",
        "[+] AMS: "
       ]
      },
      {
       "output_type": "stream",
       "stream": "stdout",
       "text": [
        " 3.29582887229 \t Threshold: 0.76\n",
        "[+] fp/fn factor:  0.0188205881283\n",
        "--> iteration:  2\n",
        "[+] Fitting done."
       ]
      },
      {
       "output_type": "stream",
       "stream": "stdout",
       "text": [
        "\n",
        "[+] Train scores done."
       ]
      },
      {
       "output_type": "stream",
       "stream": "stdout",
       "text": [
        "\n",
        "[+] Validation  scores done."
       ]
      },
      {
       "output_type": "stream",
       "stream": "stdout",
       "text": [
        "\n",
        "[+] Test scores done."
       ]
      },
      {
       "output_type": "stream",
       "stream": "stdout",
       "text": [
        "\n",
        "[+] AMS: "
       ]
      },
      {
       "output_type": "stream",
       "stream": "stdout",
       "text": [
        " 3.25750860122 \t Threshold: 0.83\n",
        "[+] fp/fn factor:  0.0100099645566\n",
        "--> iteration:  3\n"
       ]
      },
      {
       "ename": "KeyboardInterrupt",
       "evalue": "",
       "output_type": "pyerr",
       "traceback": [
        "\u001b[0;31m---------------------------------------------------------------------------\u001b[0m\n\u001b[0;31mKeyboardInterrupt\u001b[0m                         Traceback (most recent call last)",
        "\u001b[0;32m<ipython-input-129-5ddceff8ebab>\u001b[0m in \u001b[0;36m<module>\u001b[0;34m()\u001b[0m\n\u001b[1;32m     17\u001b[0m \u001b[0;32mfor\u001b[0m \u001b[0mi\u001b[0m \u001b[0;32min\u001b[0m \u001b[0mrange\u001b[0m\u001b[0;34m(\u001b[0m\u001b[0;36m1\u001b[0m\u001b[0;34m,\u001b[0m \u001b[0mnum_iterations\u001b[0m \u001b[0;34m+\u001b[0m \u001b[0;36m1\u001b[0m\u001b[0;34m)\u001b[0m\u001b[0;34m:\u001b[0m\u001b[0;34m\u001b[0m\u001b[0m\n\u001b[1;32m     18\u001b[0m     \u001b[0;32mprint\u001b[0m \u001b[0;34m'--> iteration: '\u001b[0m\u001b[0;34m,\u001b[0m \u001b[0mi\u001b[0m\u001b[0;34m\u001b[0m\u001b[0m\n\u001b[0;32m---> 19\u001b[0;31m     \u001b[0mpredictor\u001b[0m\u001b[0;34m.\u001b[0m\u001b[0mfit\u001b[0m\u001b[0;34m(\u001b[0m\u001b[0mtrain_X\u001b[0m\u001b[0;34m,\u001b[0m \u001b[0mtrain_Y\u001b[0m\u001b[0;34m,\u001b[0m \u001b[0msample_weight\u001b[0m\u001b[0;34m=\u001b[0m\u001b[0mtemp_train_W\u001b[0m\u001b[0;34m)\u001b[0m\u001b[0;34m\u001b[0m\u001b[0m\n\u001b[0m\u001b[1;32m     20\u001b[0m     \u001b[0;32mprint\u001b[0m \u001b[0;34m'[+] Fitting done.'\u001b[0m\u001b[0;34m\u001b[0m\u001b[0m\n\u001b[1;32m     21\u001b[0m \u001b[0;34m\u001b[0m\u001b[0m\n",
        "\u001b[0;32m/Library/Frameworks/Python.framework/Versions/7.3/lib/python2.7/site-packages/sklearn/ensemble/forest.py\u001b[0m in \u001b[0;36mfit\u001b[0;34m(self, X, y, sample_weight)\u001b[0m\n\u001b[1;32m    300\u001b[0m                 \u001b[0mseeds\u001b[0m\u001b[0;34m[\u001b[0m\u001b[0mi\u001b[0m\u001b[0;34m]\u001b[0m\u001b[0;34m,\u001b[0m\u001b[0;34m\u001b[0m\u001b[0m\n\u001b[1;32m    301\u001b[0m                 verbose=self.verbose)\n\u001b[0;32m--> 302\u001b[0;31m             for i in range(n_jobs))\n\u001b[0m\u001b[1;32m    303\u001b[0m \u001b[0;34m\u001b[0m\u001b[0m\n\u001b[1;32m    304\u001b[0m         \u001b[0;31m# Reduce\u001b[0m\u001b[0;34m\u001b[0m\u001b[0;34m\u001b[0m\u001b[0m\n",
        "\u001b[0;32m/Library/Frameworks/Python.framework/Versions/7.3/lib/python2.7/site-packages/sklearn/externals/joblib/parallel.py\u001b[0m in \u001b[0;36m__call__\u001b[0;34m(self, iterable)\u001b[0m\n\u001b[1;32m    515\u001b[0m         \u001b[0;32mtry\u001b[0m\u001b[0;34m:\u001b[0m\u001b[0;34m\u001b[0m\u001b[0m\n\u001b[1;32m    516\u001b[0m             \u001b[0;32mfor\u001b[0m \u001b[0mfunction\u001b[0m\u001b[0;34m,\u001b[0m \u001b[0margs\u001b[0m\u001b[0;34m,\u001b[0m \u001b[0mkwargs\u001b[0m \u001b[0;32min\u001b[0m \u001b[0miterable\u001b[0m\u001b[0;34m:\u001b[0m\u001b[0;34m\u001b[0m\u001b[0m\n\u001b[0;32m--> 517\u001b[0;31m                 \u001b[0mself\u001b[0m\u001b[0;34m.\u001b[0m\u001b[0mdispatch\u001b[0m\u001b[0;34m(\u001b[0m\u001b[0mfunction\u001b[0m\u001b[0;34m,\u001b[0m \u001b[0margs\u001b[0m\u001b[0;34m,\u001b[0m \u001b[0mkwargs\u001b[0m\u001b[0;34m)\u001b[0m\u001b[0;34m\u001b[0m\u001b[0m\n\u001b[0m\u001b[1;32m    518\u001b[0m \u001b[0;34m\u001b[0m\u001b[0m\n\u001b[1;32m    519\u001b[0m             \u001b[0mself\u001b[0m\u001b[0;34m.\u001b[0m\u001b[0mretrieve\u001b[0m\u001b[0;34m(\u001b[0m\u001b[0;34m)\u001b[0m\u001b[0;34m\u001b[0m\u001b[0m\n",
        "\u001b[0;32m/Library/Frameworks/Python.framework/Versions/7.3/lib/python2.7/site-packages/sklearn/externals/joblib/parallel.py\u001b[0m in \u001b[0;36mdispatch\u001b[0;34m(self, func, args, kwargs)\u001b[0m\n\u001b[1;32m    310\u001b[0m         \"\"\"\n\u001b[1;32m    311\u001b[0m         \u001b[0;32mif\u001b[0m \u001b[0mself\u001b[0m\u001b[0;34m.\u001b[0m\u001b[0m_pool\u001b[0m \u001b[0;32mis\u001b[0m \u001b[0mNone\u001b[0m\u001b[0;34m:\u001b[0m\u001b[0;34m\u001b[0m\u001b[0m\n\u001b[0;32m--> 312\u001b[0;31m             \u001b[0mjob\u001b[0m \u001b[0;34m=\u001b[0m \u001b[0mImmediateApply\u001b[0m\u001b[0;34m(\u001b[0m\u001b[0mfunc\u001b[0m\u001b[0;34m,\u001b[0m \u001b[0margs\u001b[0m\u001b[0;34m,\u001b[0m \u001b[0mkwargs\u001b[0m\u001b[0;34m)\u001b[0m\u001b[0;34m\u001b[0m\u001b[0m\n\u001b[0m\u001b[1;32m    313\u001b[0m             \u001b[0mindex\u001b[0m \u001b[0;34m=\u001b[0m \u001b[0mlen\u001b[0m\u001b[0;34m(\u001b[0m\u001b[0mself\u001b[0m\u001b[0;34m.\u001b[0m\u001b[0m_jobs\u001b[0m\u001b[0;34m)\u001b[0m\u001b[0;34m\u001b[0m\u001b[0m\n\u001b[1;32m    314\u001b[0m             \u001b[0;32mif\u001b[0m \u001b[0;32mnot\u001b[0m \u001b[0m_verbosity_filter\u001b[0m\u001b[0;34m(\u001b[0m\u001b[0mindex\u001b[0m\u001b[0;34m,\u001b[0m \u001b[0mself\u001b[0m\u001b[0;34m.\u001b[0m\u001b[0mverbose\u001b[0m\u001b[0;34m)\u001b[0m\u001b[0;34m:\u001b[0m\u001b[0;34m\u001b[0m\u001b[0m\n",
        "\u001b[0;32m/Library/Frameworks/Python.framework/Versions/7.3/lib/python2.7/site-packages/sklearn/externals/joblib/parallel.py\u001b[0m in \u001b[0;36m__init__\u001b[0;34m(self, func, args, kwargs)\u001b[0m\n\u001b[1;32m    134\u001b[0m         \u001b[0;31m# Don't delay the application, to avoid keeping the input\u001b[0m\u001b[0;34m\u001b[0m\u001b[0;34m\u001b[0m\u001b[0m\n\u001b[1;32m    135\u001b[0m         \u001b[0;31m# arguments in memory\u001b[0m\u001b[0;34m\u001b[0m\u001b[0;34m\u001b[0m\u001b[0m\n\u001b[0;32m--> 136\u001b[0;31m         \u001b[0mself\u001b[0m\u001b[0;34m.\u001b[0m\u001b[0mresults\u001b[0m \u001b[0;34m=\u001b[0m \u001b[0mfunc\u001b[0m\u001b[0;34m(\u001b[0m\u001b[0;34m*\u001b[0m\u001b[0margs\u001b[0m\u001b[0;34m,\u001b[0m \u001b[0;34m**\u001b[0m\u001b[0mkwargs\u001b[0m\u001b[0;34m)\u001b[0m\u001b[0;34m\u001b[0m\u001b[0m\n\u001b[0m\u001b[1;32m    137\u001b[0m \u001b[0;34m\u001b[0m\u001b[0m\n\u001b[1;32m    138\u001b[0m     \u001b[0;32mdef\u001b[0m \u001b[0mget\u001b[0m\u001b[0;34m(\u001b[0m\u001b[0mself\u001b[0m\u001b[0;34m)\u001b[0m\u001b[0;34m:\u001b[0m\u001b[0;34m\u001b[0m\u001b[0m\n",
        "\u001b[0;32m/Library/Frameworks/Python.framework/Versions/7.3/lib/python2.7/site-packages/sklearn/ensemble/forest.py\u001b[0m in \u001b[0;36m_parallel_build_trees\u001b[0;34m(n_trees, forest, X, y, sample_weight, seeds, verbose)\u001b[0m\n\u001b[1;32m     96\u001b[0m             tree.fit(X, y,\n\u001b[1;32m     97\u001b[0m                      \u001b[0msample_weight\u001b[0m\u001b[0;34m=\u001b[0m\u001b[0mcurr_sample_weight\u001b[0m\u001b[0;34m,\u001b[0m\u001b[0;34m\u001b[0m\u001b[0m\n\u001b[0;32m---> 98\u001b[0;31m                      check_input=False)\n\u001b[0m\u001b[1;32m     99\u001b[0m \u001b[0;34m\u001b[0m\u001b[0m\n\u001b[1;32m    100\u001b[0m             \u001b[0mtree\u001b[0m\u001b[0;34m.\u001b[0m\u001b[0mindices_\u001b[0m \u001b[0;34m=\u001b[0m \u001b[0msample_counts\u001b[0m \u001b[0;34m>\u001b[0m \u001b[0;36m0.\u001b[0m\u001b[0;34m\u001b[0m\u001b[0m\n",
        "\u001b[0;32m/Library/Frameworks/Python.framework/Versions/7.3/lib/python2.7/site-packages/sklearn/tree/tree.py\u001b[0m in \u001b[0;36mfit\u001b[0;34m(self, X, y, sample_mask, X_argsorted, check_input, sample_weight)\u001b[0m\n\u001b[1;32m    243\u001b[0m                           random_state)\n\u001b[1;32m    244\u001b[0m \u001b[0;34m\u001b[0m\u001b[0m\n\u001b[0;32m--> 245\u001b[0;31m         \u001b[0mself\u001b[0m\u001b[0;34m.\u001b[0m\u001b[0mtree_\u001b[0m\u001b[0;34m.\u001b[0m\u001b[0mbuild\u001b[0m\u001b[0;34m(\u001b[0m\u001b[0mX\u001b[0m\u001b[0;34m,\u001b[0m \u001b[0my\u001b[0m\u001b[0;34m,\u001b[0m \u001b[0msample_weight\u001b[0m\u001b[0;34m=\u001b[0m\u001b[0msample_weight\u001b[0m\u001b[0;34m)\u001b[0m\u001b[0;34m\u001b[0m\u001b[0m\n\u001b[0m\u001b[1;32m    246\u001b[0m \u001b[0;34m\u001b[0m\u001b[0m\n\u001b[1;32m    247\u001b[0m         \u001b[0;32mif\u001b[0m \u001b[0mself\u001b[0m\u001b[0;34m.\u001b[0m\u001b[0mn_outputs_\u001b[0m \u001b[0;34m==\u001b[0m \u001b[0;36m1\u001b[0m\u001b[0;34m:\u001b[0m\u001b[0;34m\u001b[0m\u001b[0m\n",
        "\u001b[0;31mKeyboardInterrupt\u001b[0m: "
       ]
      },
      {
       "metadata": {},
       "output_type": "display_data",
       "png": "[encoded data removed]",
       "text": [
        "<matplotlib.figure.Figure at 0x285d90>"
       ]
      }
     ],
     "prompt_number": 129
    },
    {
     "cell_type": "markdown",
     "metadata": {},
     "source": [
      "# Drawing a tree"
     ]
    },
    {
     "cell_type": "code",
     "collapsed": false,
     "input": [
      "t = adaboost.estimators_[0]"
     ],
     "language": "python",
     "metadata": {},
     "outputs": [],
     "prompt_number": 117
    },
    {
     "cell_type": "code",
     "collapsed": false,
     "input": [
      "import pydot\n",
      "from sklearn.externals.six import StringIO\n",
      "import sklearn.tree\n",
      "# dot_data = StringIO() \n",
      "# tree.export_graphviz(t, out_file=dot_data)\n",
      "with open('tree_2.dot', 'w') as f: tree.export_graphviz(t, out_file=f)"
     ],
     "language": "python",
     "metadata": {},
     "outputs": [],
     "prompt_number": 120
    },
    {
     "cell_type": "code",
     "collapsed": false,
     "input": [
      "# graph = pydot.graph_from_dot_data(dot_data.getvalue()) \n",
      "# graph.write_pdf(\"tree_2.pdf\") \n",
      "!dot -Tpdf tree.dot > tree_2.pdf"
     ],
     "language": "python",
     "metadata": {},
     "outputs": [
      {
       "output_type": "stream",
       "stream": "stdout",
       "text": [
        "^C\r\n"
       ]
      }
     ],
     "prompt_number": 122
    },
    {
     "cell_type": "code",
     "collapsed": false,
     "input": [
      "pwd"
     ],
     "language": "python",
     "metadata": {},
     "outputs": [
      {
       "metadata": {},
       "output_type": "pyout",
       "prompt_number": 108,
       "text": [
        "u'/Users/djabbz/Research/SOS_2014_TP'"
       ]
      }
     ],
     "prompt_number": 108
    },
    {
     "cell_type": "code",
     "collapsed": false,
     "input": [
      "#%install_ext https://raw.github.com/cjdrake/ipython-magic/master/gvmagic.py"
     ],
     "language": "python",
     "metadata": {},
     "outputs": [],
     "prompt_number": 124
    },
    {
     "cell_type": "code",
     "collapsed": false,
     "input": [
      "%load_ext gvmagic"
     ],
     "language": "python",
     "metadata": {},
     "outputs": [
      {
       "output_type": "stream",
       "stream": "stdout",
       "text": [
        "The gvmagic extension is already loaded. To reload it, use:\n",
        "  %reload_ext gvmagic\n"
       ]
      }
     ],
     "prompt_number": 125
    },
    {
     "cell_type": "code",
     "collapsed": false,
     "input": [
      "%dotstr dot_data.getvalue()"
     ],
     "language": "python",
     "metadata": {},
     "outputs": [
      {
       "metadata": {},
       "output_type": "display_data",
       "svg": [
        "<?xml version=\"1.0\" encoding=\"UTF-8\" standalone=\"no\"?>\n",
        "<!DOCTYPE svg PUBLIC \"-//W3C//DTD SVG 1.1//EN\"\n",
        " \"http://www.w3.org/Graphics/SVG/1.1/DTD/svg11.dtd\">\n",
        "<!-- Generated by graphviz version 2.38.0 (20140413.2041)\n",
        " -->\n",
        "<!-- Title: Tree Pages: 1 -->\n",
        "<svg width=\"454pt\" height=\"144pt\"\n",
        " viewBox=\"0.00 0.00 454.04 144.00\" xmlns=\"http://www.w3.org/2000/svg\" xmlns:xlink=\"http://www.w3.org/1999/xlink\">\n",
        "<g id=\"graph0\" class=\"graph\" transform=\"scale(1 1) rotate(0) translate(4 140)\">\n",
        "<title>Tree</title>\n",
        "<polygon fill=\"white\" stroke=\"none\" points=\"-4,4 -4,-140 450.037,-140 450.037,4 -4,4\"/>\n",
        "<!-- 0 -->\n",
        "<g id=\"node1\" class=\"node\"><title>0</title>\n",
        "<polygon fill=\"none\" stroke=\"black\" points=\"282.018,-136 164.02,-136 164.02,-86 282.018,-86 282.018,-136\"/>\n",
        "<text text-anchor=\"middle\" x=\"223.019\" y=\"-120.8\" font-family=\"Times,serif\" font-size=\"14.00\">X[1] &lt;= 52.4810</text>\n",
        "<text text-anchor=\"middle\" x=\"223.019\" y=\"-106.8\" font-family=\"Times,serif\" font-size=\"14.00\">gini = 0.5</text>\n",
        "<text text-anchor=\"middle\" x=\"223.019\" y=\"-92.8\" font-family=\"Times,serif\" font-size=\"14.00\">samples = 100000</text>\n",
        "</g>\n",
        "<!-- 1 -->\n",
        "<g id=\"node2\" class=\"node\"><title>1</title>\n",
        "<polygon fill=\"none\" stroke=\"black\" points=\"214.056,-50 -0.0185579,-50 -0.0185579,-0 214.056,-0 214.056,-50\"/>\n",
        "<text text-anchor=\"middle\" x=\"107.019\" y=\"-34.8\" font-family=\"Times,serif\" font-size=\"14.00\">gini = 0.3760</text>\n",
        "<text text-anchor=\"middle\" x=\"107.019\" y=\"-20.8\" font-family=\"Times,serif\" font-size=\"14.00\">samples = 54774</text>\n",
        "<text text-anchor=\"middle\" x=\"107.019\" y=\"-6.8\" font-family=\"Times,serif\" font-size=\"14.00\">value = [ 0.13765878 &#160;0.41080181]</text>\n",
        "</g>\n",
        "<!-- 0&#45;&gt;1 -->\n",
        "<g id=\"edge1\" class=\"edge\"><title>0&#45;&gt;1</title>\n",
        "<path fill=\"none\" stroke=\"black\" d=\"M189.778,-85.929C176.915,-76.6147 162.053,-65.8522 148.502,-56.0399\"/>\n",
        "<polygon fill=\"black\" stroke=\"black\" points=\"150.417,-53.1049 140.264,-50.0745 146.311,-58.7745 150.417,-53.1049\"/>\n",
        "</g>\n",
        "<!-- 2 -->\n",
        "<g id=\"node3\" class=\"node\"><title>2</title>\n",
        "<polygon fill=\"none\" stroke=\"black\" points=\"446.056,-50 231.981,-50 231.981,-0 446.056,-0 446.056,-50\"/>\n",
        "<text text-anchor=\"middle\" x=\"339.019\" y=\"-34.8\" font-family=\"Times,serif\" font-size=\"14.00\">gini = 0.3170</text>\n",
        "<text text-anchor=\"middle\" x=\"339.019\" y=\"-20.8\" font-family=\"Times,serif\" font-size=\"14.00\">samples = 45226</text>\n",
        "<text text-anchor=\"middle\" x=\"339.019\" y=\"-6.8\" font-family=\"Times,serif\" font-size=\"14.00\">value = [ 0.36234122 &#160;0.08919819]</text>\n",
        "</g>\n",
        "<!-- 0&#45;&gt;2 -->\n",
        "<g id=\"edge2\" class=\"edge\"><title>0&#45;&gt;2</title>\n",
        "<path fill=\"none\" stroke=\"black\" d=\"M256.259,-85.929C269.122,-76.6147 283.985,-65.8522 297.535,-56.0399\"/>\n",
        "<polygon fill=\"black\" stroke=\"black\" points=\"299.726,-58.7745 305.773,-50.0745 295.621,-53.1049 299.726,-58.7745\"/>\n",
        "</g>\n",
        "</g>\n",
        "</svg>\n"
       ]
      }
     ],
     "prompt_number": 126
    },
    {
     "cell_type": "markdown",
     "metadata": {},
     "source": [
      "# Relabeling  with sampling"
     ]
    },
    {
     "cell_type": "code",
     "collapsed": false,
     "input": [
      "data.set_split_fractions((0.4, 0.3))\n",
      "train_X, train_Y, train_W = data.get_data_fold('train')\n",
      "valid_X, valid_Y, valid_W = data.get_data_fold('valid')\n",
      "test_X, test_Y, test_W = data.get_data_fold('test')\n",
      "_, _, unnormalized_train_W = data.get_data_fold('train', normed_weights=False)\n",
      "_, _, unnormalized_valid_W = data.get_data_fold('valid', normed_weights=False)\n",
      "_, _, unnormalized_test_W = data.get_data_fold('test', normed_weights=False)\n",
      "weight_factor_test = float(data.shape[0]) / test_X.shape[0]\n",
      "weight_factor_train = float(data.shape[0]) / train_X.shape[0]\n",
      "weight_factor_valid = float(data.shape[0]) / valid_X.shape[0]"
     ],
     "language": "python",
     "metadata": {},
     "outputs": [],
     "prompt_number": 127
    },
    {
     "cell_type": "code",
     "collapsed": false,
     "input": [
      "rf_100 = ens.RandomForestClassifier(n_estimators=50)\n",
      "num_iterations = 10\n",
      "predictor = rf_100\n",
      "\n",
      "temp_train_Y = train_Y.copy()\n",
      "temp_train_W = train_W.copy()\n",
      "n_samples = temp_train_W.shape[0]\n",
      "\n",
      "indices = np.random.randint(0, n_samples, n_samples)\n",
      "sample_counts = np.bincount(indices, minlength=n_samples)\n",
      "temp_train_W *= sample_counts\n",
      "\n",
      "threshold = 0.5"
     ],
     "language": "python",
     "metadata": {},
     "outputs": [],
     "prompt_number": 136
    },
    {
     "cell_type": "code",
     "collapsed": false,
     "input": [
      "for i in range(1, num_iterations + 2):\n",
      "    print '--> iteration: ', i\n",
      "    predictor.fit(train_X, temp_train_Y, sample_weight=temp_train_W)\n",
      "    print '[+] Fitting done.'\n",
      "\n",
      "    valid_scores = predictor.predict_proba(valid_X)\n",
      "    print '[+] Validation  scores done.'\n",
      "    test_scores = predictor.predict_proba(test_X)\n",
      "    print '[+] Test scores done.'\n",
      "\n",
      "    _, threshold = SOS.plot_AMS_2(valid_scores, valid_Y, unnormalized_valid_W, weight_factor_valid, plot=False)\n",
      "    ams, _ = SOS.plot_AMS_2(test_scores, test_Y, unnormalized_test_W, weight_factor_test, label='iteration %d' %i)\n",
      "    print '[+] AMS: ', ams, '\\t Threshold:', threshold \n",
      "    \n",
      "    # reweighting\n",
      "#     fp_sum = valid_W[ (valid_scores[:, 1] > threshold)  & (valid_Y == 0) ].sum()\n",
      "#     fn_sum = valid_W[ (valid_scores[:, 1] <= threshold) & (valid_Y == 1) ].sum()\n",
      "#     reweighting_factor = fp_sum / fn_sum\n",
      "#     print '[+] fp/fn factor: ', reweighting_factor\n",
      "    \n",
      "#     temp_train_W[(train_Y == 0)] /= reweighting_factor\n",
      "#     temp_train_W[(train_Y == 1)] *= reweighting_factor\n",
      "    \n",
      "##     temp_valid_W[(valid_Y == 0)] /= reweighting_factor\n",
      "##     temp_valid_W[(valid_Y == 1)] *= reweighting_factor\n",
      "\n",
      "    temp_train_Y = train_Y.copy()\n",
      "    temp_train_W = train_W.copy()\n",
      "    \n",
      "#     indices = np.random.randint(0, n_samples, n_samples)\n",
      "#     sample_counts = np.bincount(indices, minlength=n_samples)\n",
      "#     temp_train_W *= sample_counts\n",
      "\n",
      "#     indices = np.random.choice(temp_train_Y, size=temp_train_Y.shape[0], replace=False)\n",
      "    indices = np.random.binomial(1, 0.5, size=temp_train_Y.shape[0])\n",
      "    temp_train_W *= indices\n",
      "    \n",
      "    temp_train_Y[indices != 0] = (train_scores[:, 1] > threshold)[indices != 0].astype(int)"
     ],
     "language": "python",
     "metadata": {},
     "outputs": []
    }
   ],
   "metadata": {}
  }
 ]
}