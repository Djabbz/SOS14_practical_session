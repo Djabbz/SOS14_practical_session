{
 "metadata": {
  "name": "",
  "signature": "sha256:b2000705e53609d4e5f13e63192d189c8e28d8aa32e5206f7006e7e2dd31d294"
 },
 "nbformat": 3,
 "nbformat_minor": 0,
 "worksheets": [
  {
   "cells": [
    {
     "cell_type": "heading",
     "level": 1,
     "metadata": {},
     "source": [
      "Starting kit for the Higgs boson machine learning challenge"
     ]
    },
    {
     "cell_type": "markdown",
     "metadata": {},
     "source": [
      "This notebook contains a starting kit for the <a href=\"https://www.kaggle.com/c/higgs-boson\">\n",
      "Higgs boson machine learning challenge</a>. Download the training set (called <code>trainHiggsKegl.csv</code>) and the qualifying set <code>qualifyingHiggsKegl.csv</code>), then execute cells in order."
     ]
    },
    {
     "cell_type": "code",
     "collapsed": false,
     "input": [
      "import random,string,math,csv\n",
      "import numpy as np\n",
      "import matplotlib.pyplot as plt"
     ],
     "language": "python",
     "metadata": {},
     "outputs": [],
     "prompt_number": 58
    },
    {
     "cell_type": "heading",
     "level": 2,
     "metadata": {},
     "source": [
      "Reading an formatting training data"
     ]
    },
    {
     "cell_type": "code",
     "collapsed": false,
     "input": [
      "all = list(csv.reader(open(\"trainHiggsKegl.csv\",\"rb\"), delimiter=','))"
     ],
     "language": "python",
     "metadata": {},
     "outputs": [],
     "prompt_number": 3
    },
    {
     "cell_type": "markdown",
     "metadata": {},
     "source": [
      "Slicing off header row and weight and label columns."
     ]
    },
    {
     "cell_type": "code",
     "collapsed": false,
     "input": [
      "xs = np.array([map(float, row[:-2]) for row in all[1:]])\n",
      "(numPoints,numFeatures) = xs.shape"
     ],
     "language": "python",
     "metadata": {},
     "outputs": [],
     "prompt_number": 15
    },
    {
     "cell_type": "markdown",
     "metadata": {},
     "source": [
      "Perturbing features to avoid ties. It's far from optimal but makes life easier in this simple example."
     ]
    },
    {
     "cell_type": "code",
     "collapsed": false,
     "input": [
      "xs = np.add(xs, np.random.normal(0.0, 0.0001, xs.shape))"
     ],
     "language": "python",
     "metadata": {},
     "outputs": [],
     "prompt_number": 14
    },
    {
     "cell_type": "markdown",
     "metadata": {},
     "source": [
      "Label selectors."
     ]
    },
    {
     "cell_type": "code",
     "collapsed": false,
     "input": [
      "sSelector = np.array([row[-1] == 's' for row in all[1:]])\n",
      "bSelector = np.array([row[-1] == 'b' for row in all[1:]])"
     ],
     "language": "python",
     "metadata": {},
     "outputs": [],
     "prompt_number": 18
    },
    {
     "cell_type": "markdown",
     "metadata": {},
     "source": [
      "Weights and weight sums."
     ]
    },
    {
     "cell_type": "code",
     "collapsed": false,
     "input": [
      "weights = np.array([float(row[-2]) for row in all[1:]])\n",
      "sumWeights = np.sum(weights)\n",
      "sumSWeights = np.sum(weights[sSelector])\n",
      "sumBWeights = np.sum(weights[bSelector])"
     ],
     "language": "python",
     "metadata": {},
     "outputs": [],
     "prompt_number": 19
    },
    {
     "cell_type": "heading",
     "level": 2,
     "metadata": {},
     "source": [
      "Training and validation cuts"
     ]
    },
    {
     "cell_type": "markdown",
     "metadata": {},
     "source": [
      "We will train a classifier on the training set for minimizing weighted error, then we will maximize the AMS on the held out validation set."
     ]
    },
    {
     "cell_type": "code",
     "collapsed": false,
     "input": [
      "randomPermutation = random.sample(range(len(xs)), len(xs))\n",
      "numPointsTrain = int(numPoints*0.9)\n",
      "numPointsValidation = numPoints - numPointsTrain\n",
      "\n",
      "xsTrain = xs[randomPermutation[:numPointsTrain]]\n",
      "xsValidation = xs[randomPermutation[numPointsTrain:]]\n",
      "\n",
      "sSelectorTrain = sSelector[randomPermutation[:numPointsTrain]]\n",
      "bSelectorTrain = bSelector[randomPermutation[:numPointsTrain]]\n",
      "sSelectorValidation = sSelector[randomPermutation[numPointsTrain:]]\n",
      "bSelectorValidation = bSelector[randomPermutation[numPointsTrain:]]\n",
      "\n",
      "weightsTrain = weights[randomPermutation[:numPointsTrain]]\n",
      "weightsValidation = weights[randomPermutation[numPointsTrain:]]\n",
      "\n",
      "sumWeightsTrain = np.sum(weightsTrain)\n",
      "sumSWeightsTrain = np.sum(weightsTrain[sSelectorTrain])\n",
      "sumBWeightsTrain = np.sum(weightsTrain[bSelectorTrain])"
     ],
     "language": "python",
     "metadata": {},
     "outputs": [],
     "prompt_number": 26
    },
    {
     "cell_type": "code",
     "collapsed": false,
     "input": [
      "xsTrainTranspose = xsTrain.transpose()"
     ],
     "language": "python",
     "metadata": {},
     "outputs": [],
     "prompt_number": 27
    },
    {
     "cell_type": "markdown",
     "metadata": {},
     "source": [
      "Making signal and background weights sum to $1/2$ each to emulate uniform priors $p(s)=p(b)=1/2$."
     ]
    },
    {
     "cell_type": "code",
     "collapsed": false,
     "input": [
      "weightsBalancedTrain = np.array([0.5 * weightsTrain[i]/sumSWeightsTrain\n",
      "                                 if sSelectorTrain[i]\n",
      "                                 else 0.5 * weightsTrain[i]/sumBWeightsTrain\\\n",
      "                                 for i in range(numPointsTrain)])"
     ],
     "language": "python",
     "metadata": {},
     "outputs": [],
     "prompt_number": 28
    },
    {
     "cell_type": "heading",
     "level": 2,
     "metadata": {},
     "source": [
      "Training naive Bayes and defining the score function"
     ]
    },
    {
     "cell_type": "markdown",
     "metadata": {},
     "source": [
      "Number of bins per dimension for binned naive Bayes."
     ]
    },
    {
     "cell_type": "code",
     "collapsed": false,
     "input": [
      "numBins = 10"
     ],
     "language": "python",
     "metadata": {},
     "outputs": [],
     "prompt_number": 29
    },
    {
     "cell_type": "markdown",
     "metadata": {},
     "source": [
      "<code>logPs[fI,bI]</code> will be the log probability of a data point <code>x</code> with <code>binMaxs[bI - 1] < x[fI] <= binMaxs[bI]</code> (with <code>binMaxs[-1] = -</code>$\\infty$ by convention) being a signal under uniform priors $p(\\text{s}) = p(\\text{b}) = 1/2$."
     ]
    },
    {
     "cell_type": "code",
     "collapsed": false,
     "input": [
      "logPs = np.empty([numFeatures, numBins])\n",
      "binMaxs = np.empty([numFeatures, numBins])\n",
      "binIndexes = np.array(range(0, numPointsTrain+1, numPointsTrain/numBins))"
     ],
     "language": "python",
     "metadata": {},
     "outputs": [],
     "prompt_number": 31
    },
    {
     "cell_type": "code",
     "collapsed": false,
     "input": [
      "for fI in range(numFeatures):\n",
      "    # index permutation of sorted feature column\n",
      "    indexes = xsTrainTranspose[fI].argsort()\n",
      "\n",
      "    for bI in range(numBins):\n",
      "        # upper bin limits\n",
      "        binMaxs[fI, bI] = xsTrainTranspose[fI, indexes[binIndexes[bI+1]-1]]\n",
      "        # training indices of points in a bin\n",
      "        indexesInBin = indexes[binIndexes[bI]:binIndexes[bI+1]]\n",
      "        # sum of signal weights in bin\n",
      "        wS = np.sum(weightsBalancedTrain[indexesInBin]\n",
      "                    [sSelectorTrain[indexesInBin]])\n",
      "        # sum of background weights in bin\n",
      "        wB = np.sum(weightsBalancedTrain[indexesInBin]\n",
      "                    [bSelectorTrain[indexesInBin]])\n",
      "        # log probability of being a signal in the bin\n",
      "        logPs[fI, bI] = math.log(wS/(wS+wB))"
     ],
     "language": "python",
     "metadata": {},
     "outputs": [],
     "prompt_number": 32
    },
    {
     "cell_type": "markdown",
     "metadata": {},
     "source": [
      "The score function we will use to sort the test examples. For readability it is shifted so negative means likely background (under uniform prior) and positive means likely signal. <code>x</code> is an input vector."
     ]
    },
    {
     "cell_type": "code",
     "collapsed": false,
     "input": [
      "def score(x):\n",
      "    logP = 0\n",
      "    for fI in range(numFeatures):\n",
      "        bI = 0\n",
      "        # linear search for the bin index of the fIth feature\n",
      "        # of the signal\n",
      "        while bI < len(binMaxs[fI]) - 1 and x[fI] > binMaxs[fI, bI]:\n",
      "            bI += 1\n",
      "        logP += logPs[fI, bI] - math.log(0.5)\n",
      "    return logP"
     ],
     "language": "python",
     "metadata": {},
     "outputs": [],
     "prompt_number": 33
    },
    {
     "cell_type": "heading",
     "level": 2,
     "metadata": {},
     "source": [
      "Optimizing the AMS on the held out validation set"
     ]
    },
    {
     "cell_type": "markdown",
     "metadata": {},
     "source": [
      "The Approximate Median Significance\n",
      "\\begin{equation*}\n",
      "\\text{AMS} = \\sqrt{ 2 \\left( (s + b + 10) \\ln \\left( 1 + \\frac{s}{b +\n",
      "    10} \\right) - s \\right) }\n",
      "\\end{equation*}\n",
      "<code>s</code> and <code>b</code> are the sum of signal and background weights, respectively, in the selection region."
     ]
    },
    {
     "cell_type": "code",
     "collapsed": false,
     "input": [
      "def AMS(s,b):\n",
      "    assert s >= 0\n",
      "    assert b >= 0\n",
      "    bReg = 10.\n",
      "    return math.sqrt(2 * ((s + b + bReg) * \n",
      "                          math.log(1 + s / (b + bReg)) - s))"
     ],
     "language": "python",
     "metadata": {},
     "outputs": [],
     "prompt_number": 34
    },
    {
     "cell_type": "markdown",
     "metadata": {},
     "source": [
      "Computing the scores on the validation set"
     ]
    },
    {
     "cell_type": "code",
     "collapsed": false,
     "input": [
      "validationScores = np.array([score(x) for x in xsValidation])"
     ],
     "language": "python",
     "metadata": {},
     "outputs": [],
     "prompt_number": 35
    },
    {
     "cell_type": "markdown",
     "metadata": {},
     "source": [
      "Sorting the indices in increasing order of the scores."
     ]
    },
    {
     "cell_type": "code",
     "collapsed": false,
     "input": [
      "tIIs = validationScores.argsort()"
     ],
     "language": "python",
     "metadata": {},
     "outputs": [],
     "prompt_number": 37
    },
    {
     "cell_type": "markdown",
     "metadata": {},
     "source": [
      "Weights have to be normalized to the same sum as in the full set."
     ]
    },
    {
     "cell_type": "code",
     "collapsed": false,
     "input": [
      "wFactor = 1.* numPoints / numPointsValidation"
     ],
     "language": "python",
     "metadata": {},
     "outputs": [],
     "prompt_number": 38
    },
    {
     "cell_type": "markdown",
     "metadata": {},
     "source": [
      "Initializing $s$ and $b$ to the full sum of weights, we start having all point being in the selectiom region."
     ]
    },
    {
     "cell_type": "code",
     "collapsed": false,
     "input": [
      "s = np.sum(weightsValidation[sSelectorValidation])\n",
      "b = np.sum(weightsValidation[bSelectorValidation])"
     ],
     "language": "python",
     "metadata": {},
     "outputs": [],
     "prompt_number": 39
    },
    {
     "cell_type": "markdown",
     "metadata": {},
     "source": [
      "<code>amss</code> will contain AMSs after each point moved out of the selection region in the sorted validation set."
     ]
    },
    {
     "cell_type": "code",
     "collapsed": false,
     "input": [
      "amss = np.empty([len(tIIs)])"
     ],
     "language": "python",
     "metadata": {},
     "outputs": [],
     "prompt_number": 40
    },
    {
     "cell_type": "markdown",
     "metadata": {},
     "source": [
      "<code>amsMax</code> will contain the best test AMS, and <code>threshold</code> will be the index of the first point of the selection region (that is, the <b>index of the point with the lowest score in the selection region</b>)."
     ]
    },
    {
     "cell_type": "code",
     "collapsed": false,
     "input": [
      "amsMax = 0\n",
      "threshold = -1"
     ],
     "language": "python",
     "metadata": {},
     "outputs": [],
     "prompt_number": 41
    },
    {
     "cell_type": "markdown",
     "metadata": {},
     "source": [
      "We will do <code>len(tIIs)</code> iterations, which means that <code>amss[-1]</code> is the AMS when only the point with the highest score is selected."
     ]
    },
    {
     "cell_type": "code",
     "collapsed": false,
     "input": [
      "for tI in range(len(tIIs)):\n",
      "    # don't forget to renormalize the weights to the same sum \n",
      "    # as in the complete training set\n",
      "    amss[tI] = AMS(s * wFactor,b * wFactor)\n",
      "    if amss[tI] > amsMax:\n",
      "        amsMax = amss[tI]\n",
      "        threshold = tI\n",
      "    if sSelectorValidation[tIIs[tI]]:\n",
      "        s -= weightsValidation[tIIs[tI]]\n",
      "    else:\n",
      "        b -= weightsValidation[tIIs[tI]]"
     ],
     "language": "python",
     "metadata": {},
     "outputs": [],
     "prompt_number": 42
    },
    {
     "cell_type": "code",
     "collapsed": false,
     "input": [
      "amsMax"
     ],
     "language": "python",
     "metadata": {},
     "outputs": [
      {
       "metadata": {},
       "output_type": "pyout",
       "prompt_number": 56,
       "text": [
        "1.9719575628287329"
       ]
      }
     ],
     "prompt_number": 56
    },
    {
     "cell_type": "code",
     "collapsed": false,
     "input": [
      "plt.plot(amss)"
     ],
     "language": "python",
     "metadata": {},
     "outputs": [
      {
       "metadata": {},
       "output_type": "pyout",
       "prompt_number": 59,
       "text": [
        "[<matplotlib.lines.Line2D at 0x155109a50>]"
       ]
      },
      {
       "metadata": {},
       "output_type": "display_data",
       "png": "[encoded data removed]",
       "text": [
        "<matplotlib.figure.Figure at 0x105cda290>"
       ]
      }
     ],
     "prompt_number": 59
    },
    {
     "cell_type": "heading",
     "level": 2,
     "metadata": {},
     "source": [
      "Computing the permutation on the qualifying set"
     ]
    },
    {
     "cell_type": "markdown",
     "metadata": {},
     "source": [
      "Reading qualifying file and converting the data into float."
     ]
    },
    {
     "cell_type": "code",
     "collapsed": false,
     "input": [
      "qualifying = list(csv.reader(open(\"qualifyingHiggsKegl.csv\", \"rb\"),\n",
      "                                 delimiter=','))\n",
      "xsQualifying = np.array([map(float, row) for row in qualifying[1:]])"
     ],
     "language": "python",
     "metadata": {},
     "outputs": [],
     "prompt_number": 62
    },
    {
     "cell_type": "markdown",
     "metadata": {},
     "source": [
      "Computing the scores."
     ]
    },
    {
     "cell_type": "code",
     "collapsed": false,
     "input": [
      "qualifyingScores = np.array([score(x) for x in xsQualifying])"
     ],
     "language": "python",
     "metadata": {},
     "outputs": [],
     "prompt_number": 51
    },
    {
     "cell_type": "markdown",
     "metadata": {},
     "source": [
      "Computing the permutation with the convention of starting counting at 1."
     ]
    },
    {
     "cell_type": "code",
     "collapsed": false,
     "input": [
      "qualifyingPermutation = np.add(qualifyingScores.argsort(), 1)"
     ],
     "language": "python",
     "metadata": {},
     "outputs": [],
     "prompt_number": 52
    },
    {
     "cell_type": "markdown",
     "metadata": {},
     "source": [
      "Computing the threshold index, with the convention of starting counting at 1. Linear transformation according to the ratio of file sizes."
     ]
    },
    {
     "cell_type": "code",
     "collapsed": false,
     "input": [
      "qualifyingThreshold = round(len(xsQualifying)/len(xsValidation)\n",
      "                            *(threshold+1))"
     ],
     "language": "python",
     "metadata": {},
     "outputs": [],
     "prompt_number": 61
    },
    {
     "cell_type": "markdown",
     "metadata": {},
     "source": [
      "Saving the permutation and the threshold, to be submitted to Kaggle."
     ]
    },
    {
     "cell_type": "code",
     "collapsed": false,
     "input": [
      "np.savetxt(\"submission.txt\",\n",
      "           np.append(qualifyingPermutation, qualifyingThreshold),\n",
      "           fmt='%d', delimiter='\\n')"
     ],
     "language": "python",
     "metadata": {},
     "outputs": [],
     "prompt_number": 63
    }
   ],
   "metadata": {}
  }
 ]
}