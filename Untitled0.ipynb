{
 "metadata": {
  "name": "",
  "signature": "sha256:1f43b4b5520fed9d4eeb3275911e04dd0b5cbe7ac22193f6afcf7976139c363d"
 },
 "nbformat": 3,
 "nbformat_minor": 0,
 "worksheets": [
  {
   "cells": [
    {
     "cell_type": "code",
     "collapsed": false,
     "input": [
      "import SOS_tools as SOS\n",
      "import numpy as np\n",
      "import pandas as pd\n",
      "import sklearn.ensemble as ens\n",
      "import sklearn.tree as tree"
     ],
     "language": "python",
     "metadata": {},
     "outputs": [],
     "prompt_number": 1
    },
    {
     "cell_type": "code",
     "collapsed": false,
     "input": [
      "%load_ext autoreload\n",
      "%autoreload 2\n",
      "%matplotlib inline"
     ],
     "language": "python",
     "metadata": {},
     "outputs": [],
     "prompt_number": 2
    },
    {
     "cell_type": "code",
     "collapsed": false,
     "input": [
      "pd.set_option('display.mpl_style', 'default') # Make the graphs a bit prettier\n",
      "pd.set_option('display.max_columns', None) # Otherwise, the columns will be truncated\n",
      "pd.set_option('display.max_rows', 35)\n",
      "rcParams['figure.figsize'] = (10.0, 6.0)\n",
      "rcParams['axes.linewidth'] = 2.5"
     ],
     "language": "python",
     "metadata": {},
     "outputs": [],
     "prompt_number": 3
    },
    {
     "cell_type": "code",
     "collapsed": false,
     "input": [
      "train_filename = 'training.csv'\n",
      "data = SOS.HiggsData(train_filename)"
     ],
     "language": "python",
     "metadata": {},
     "outputs": [],
     "prompt_number": 4
    },
    {
     "cell_type": "code",
     "collapsed": false,
     "input": [
      "data.set_split_fractions(0.4)\n",
      "train_X, train_Y, train_W = data.get_data_fold('train')\n",
      "test_X, test_Y, test_W = data.get_data_fold('test')"
     ],
     "language": "python",
     "metadata": {},
     "outputs": [],
     "prompt_number": 5
    },
    {
     "cell_type": "code",
     "collapsed": false,
     "input": [
      "_, _, unnormalized_test_W = data.get_data_fold('test', normed_weights=False)\n",
      "weight_factor = float(data.shape[0]) / test_X.shape[0]"
     ],
     "language": "python",
     "metadata": {},
     "outputs": [],
     "prompt_number": 6
    },
    {
     "cell_type": "code",
     "collapsed": false,
     "input": [
      "random_forest = ens.RandomForestClassifier(n_estimators=100)"
     ],
     "language": "python",
     "metadata": {},
     "outputs": [],
     "prompt_number": 7
    },
    {
     "cell_type": "code",
     "collapsed": true,
     "input": [
      "num_iterations = 10\n",
      "\n",
      "temp_Y = train_Y[:]\n",
      "# train_scores = random_forest.predict_proba(train_X)\n",
      "# temp_Y = (train_scores[:, 1] > threshold).astype(int)\n",
      "for i in range(1, num_iterations + 1):\n",
      "    \n",
      "    print '--> iteration: ', i\n",
      "    random_forest.fit(train_X, temp_Y, sample_weight=train_W)\n",
      "    print '[+] Fitting done.'\n",
      "    train_scores = random_forest.predict_proba(train_X)\n",
      "    test_scores = random_forest.predict_proba(test_X)\n",
      "    ams, threshold = SOS.plot_AMS_2(test_scores, test_Y, unnormalized_test_W, weight_factor, label='iteration %d' %i)\n",
      "    print '[+] AMS: ', ams, '\\t Threshold:', threshold \n",
      "    temp_Y = (train_scores[:, 1] > threshold).astype(int)    "
     ],
     "language": "python",
     "metadata": {},
     "outputs": [
      {
       "output_type": "stream",
       "stream": "stdout",
       "text": [
        "[+] AMS:  3.33695630161\n",
        "[+] AMS: "
       ]
      },
      {
       "output_type": "stream",
       "stream": "stdout",
       "text": [
        " 3.38148252373\n",
        "[+] AMS: "
       ]
      },
      {
       "output_type": "stream",
       "stream": "stdout",
       "text": [
        " 3.35932052113\n",
        "[+] AMS: "
       ]
      },
      {
       "output_type": "stream",
       "stream": "stdout",
       "text": [
        " 3.3507439554\n",
        "[+] AMS: "
       ]
      },
      {
       "output_type": "stream",
       "stream": "stdout",
       "text": [
        " 3.35340257323\n",
        "[+] AMS: "
       ]
      },
      {
       "output_type": "stream",
       "stream": "stdout",
       "text": [
        " 3.35569747565\n",
        "[+] AMS: "
       ]
      },
      {
       "output_type": "stream",
       "stream": "stdout",
       "text": [
        " 3.37958083657\n",
        "[+] AMS: "
       ]
      },
      {
       "output_type": "stream",
       "stream": "stdout",
       "text": [
        " 3.36665091066\n",
        "[+] AMS: "
       ]
      },
      {
       "output_type": "stream",
       "stream": "stdout",
       "text": [
        " 3.37997104389\n",
        "[+] AMS: "
       ]
      },
      {
       "output_type": "stream",
       "stream": "stdout",
       "text": [
        " 3.38992526082\n"
       ]
      },
      {
       "metadata": {},
       "output_type": "display_data",
       "png": "[encoded data removed]",
       "text": [
        "<matplotlib.figure.Figure at 0x9597e70>"
       ]
      }
     ],
     "prompt_number": 11
    },
    {
     "cell_type": "code",
     "collapsed": false,
     "input": [
      "adaboost = ens.AdaBoostClassifier(n_estimators=100)"
     ],
     "language": "python",
     "metadata": {},
     "outputs": [],
     "prompt_number": 12
    },
    {
     "cell_type": "code",
     "collapsed": true,
     "input": [
      "num_iterations = 10\n",
      "predictor = adaboost\n",
      "temp_Y = train_Y[:]\n",
      "for i in range(1, num_iterations + 1):\n",
      "    \n",
      "    print '--> iteration: ', i\n",
      "    predictor.fit(train_X, temp_Y, sample_weight=train_W)\n",
      "    print '[+] Fitting done.'\n",
      "    train_scores = predictor.predict_proba(train_X)\n",
      "    test_scores = predictor.predict_proba(test_X)\n",
      "    ams, threshold = SOS.plot_AMS_2(test_scores, test_Y, unnormalized_test_W, weight_factor, label='iteration %d' %i)\n",
      "    print '[+] AMS: ', ams, '\\t Threshold:', threshold \n",
      "    temp_Y = (train_scores[:, 1] > threshold).astype(int)    "
     ],
     "language": "python",
     "metadata": {},
     "outputs": [
      {
       "output_type": "stream",
       "stream": "stdout",
       "text": [
        "--> iteration:  1\n",
        "[+] Fitting done."
       ]
      },
      {
       "output_type": "stream",
       "stream": "stdout",
       "text": [
        "\n",
        "[+] AMS: "
       ]
      },
      {
       "output_type": "stream",
       "stream": "stdout",
       "text": [
        " 2.99899786189 \t Threshold: 0.506029503658\n",
        "--> iteration:  2\n",
        "[+] Fitting done."
       ]
      },
      {
       "output_type": "stream",
       "stream": "stdout",
       "text": [
        "\n",
        "[+] AMS: "
       ]
      },
      {
       "output_type": "stream",
       "stream": "stdout",
       "text": [
        " 3.00615460598 \t Threshold: 0.503485231912\n",
        "--> iteration:  3\n",
        "[+] Fitting done."
       ]
      },
      {
       "output_type": "stream",
       "stream": "stdout",
       "text": [
        "\n",
        "[+] AMS: "
       ]
      },
      {
       "output_type": "stream",
       "stream": "stdout",
       "text": [
        " 3.00505674779 \t Threshold: 0.501544705085\n",
        "--> iteration:  4\n",
        "[+] Fitting done."
       ]
      },
      {
       "output_type": "stream",
       "stream": "stdout",
       "text": [
        "\n",
        "[+] AMS: "
       ]
      },
      {
       "output_type": "stream",
       "stream": "stdout",
       "text": [
        " 3.00310484122 \t Threshold: 0.496215595274\n",
        "--> iteration:  5\n",
        "[+] Fitting done."
       ]
      },
      {
       "output_type": "stream",
       "stream": "stdout",
       "text": [
        "\n",
        "[+] AMS: "
       ]
      }
     ]
    },
    {
     "cell_type": "code",
     "collapsed": true,
     "input": [
      "num_iterations = 3{{}}\n",
      "predictor = random_forest\n",
      "temp_Y = train_Y[:]\n",
      "for i in range(1, num_iterations + 1):\n",
      "    \n",
      "    print '--> iteration: ', i\n",
      "    predictor.fit(train_X, temp_Y, sample_weight=train_W)\n",
      "    print '[+] Fitting done.'\n",
      "    train_scores = predictor.predict_proba(train_X)\n",
      "    test_scores = predictor.predict_proba(test_X)\n",
      "    ams, threshold = SOS.plot_AMS_2(test_scores, test_Y, unnormalized_test_W, weight_factor, label='iteration %d' %i)\n",
      "    print '[+] AMS: ', ams, '\\t Threshold:', threshold \n",
      "    temp_Y = (train_scores[:, 1] > threshold).astype(int)    "
     ],
     "language": "python",
     "metadata": {},
     "outputs": [
      {
       "output_type": "stream",
       "stream": "stdout",
       "text": [
        "--> iteration:  1\n",
        "[+] Fitting done."
       ]
      },
      {
       "output_type": "stream",
       "stream": "stdout",
       "text": [
        "\n",
        "[+] AMS: "
       ]
      },
      {
       "output_type": "stream",
       "stream": "stdout",
       "text": [
        " 2.99899786189 \t Threshold: 0.506029503658\n",
        "--> iteration:  2\n",
        "[+] Fitting done."
       ]
      },
      {
       "output_type": "stream",
       "stream": "stdout",
       "text": [
        "\n",
        "[+] AMS: "
       ]
      },
      {
       "output_type": "stream",
       "stream": "stdout",
       "text": [
        " 3.00615460598 \t Threshold: 0.503485231912\n",
        "--> iteration:  3\n",
        "[+] Fitting done."
       ]
      },
      {
       "output_type": "stream",
       "stream": "stdout",
       "text": [
        "\n",
        "[+] AMS: "
       ]
      }
     ]
    }
   ],
   "metadata": {}
  }
 ]
}