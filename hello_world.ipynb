{
 "metadata": {
  "name": "",
  "signature": "sha256:edf9315ae60ca2221f61e9c114fde9d43b5e0209e69b4ab62d807fe8782a53ee"
 },
 "nbformat": 3,
 "nbformat_minor": 0,
 "worksheets": [
  {
   "cells": [
    {
     "cell_type": "code",
     "collapsed": false,
     "input": [
      "import pandas as pd\n",
      "from IPython.display import Image, HTML\n",
      "Image(url='http://higgsml.lal.in2p3.fr/files/2014/05/cropped-HML-Higgs-ML-banner1.png', embed=True)"
     ],
     "language": "python",
     "metadata": {},
     "outputs": []
    },
    {
     "cell_type": "code",
     "collapsed": false,
     "input": [
      "HTML('<h1>Great!</h1> Everything should be fine for the practical session. In order to illustrate some of the machine learning algorithms seen during the course, we will (virtually) participate in the Higgs Challenge hosted by Kaggle.')"
     ],
     "language": "python",
     "metadata": {},
     "outputs": []
    },
    {
     "cell_type": "code",
     "collapsed": false,
     "input": [
      "pd.read_csv('training.csv')"
     ],
     "language": "python",
     "metadata": {},
     "outputs": []
    }
   ],
   "metadata": {}
  }
 ]
}